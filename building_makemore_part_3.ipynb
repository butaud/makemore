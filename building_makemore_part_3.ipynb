{
  "nbformat": 4,
  "nbformat_minor": 0,
  "metadata": {
    "colab": {
      "provenance": [],
      "include_colab_link": true
    },
    "kernelspec": {
      "name": "python3",
      "display_name": "Python 3"
    },
    "language_info": {
      "name": "python"
    }
  },
  "cells": [
    {
      "cell_type": "markdown",
      "metadata": {
        "id": "view-in-github",
        "colab_type": "text"
      },
      "source": [
        "<a href=\"https://colab.research.google.com/github/butaud/makemore/blob/main/building_makemore_part_3.ipynb\" target=\"_parent\"><img src=\"https://colab.research.google.com/assets/colab-badge.svg\" alt=\"Open In Colab\"/></a>"
      ]
    },
    {
      "cell_type": "code",
      "execution_count": null,
      "metadata": {
        "id": "vowXRstocd8F"
      },
      "outputs": [],
      "source": [
        "import torch\n",
        "import torch.nn.functional as F\n",
        "import matplotlib.pyplot as plt # for making figures\n",
        "%matplotlib inline"
      ]
    },
    {
      "cell_type": "code",
      "source": [
        "# download the names.txt file from github\n",
        "!wget https://raw.githubusercontent.com/karpathy/makemore/master/names.txt"
      ],
      "metadata": {
        "colab": {
          "base_uri": "https://localhost:8080/"
        },
        "id": "9Rlc3YeWcm_d",
        "outputId": "d5e8de70-7707-46ee-a676-fc990bc1a73c"
      },
      "execution_count": null,
      "outputs": [
        {
          "output_type": "stream",
          "name": "stdout",
          "text": [
            "--2024-03-12 16:40:23--  https://raw.githubusercontent.com/karpathy/makemore/master/names.txt\n",
            "Resolving raw.githubusercontent.com (raw.githubusercontent.com)... 185.199.111.133, 185.199.110.133, 185.199.108.133, ...\n",
            "Connecting to raw.githubusercontent.com (raw.githubusercontent.com)|185.199.111.133|:443... connected.\n",
            "HTTP request sent, awaiting response... 200 OK\n",
            "Length: 228145 (223K) [text/plain]\n",
            "Saving to: ‘names.txt’\n",
            "\n",
            "\rnames.txt             0%[                    ]       0  --.-KB/s               \rnames.txt           100%[===================>] 222.80K  --.-KB/s    in 0.03s   \n",
            "\n",
            "2024-03-12 16:40:23 (7.79 MB/s) - ‘names.txt’ saved [228145/228145]\n",
            "\n"
          ]
        }
      ]
    },
    {
      "cell_type": "code",
      "source": [
        "words = open('names.txt', 'r').read().splitlines()\n",
        "words[:8]"
      ],
      "metadata": {
        "colab": {
          "base_uri": "https://localhost:8080/"
        },
        "id": "uH2MGP4FcidR",
        "outputId": "52e9db76-1d13-4129-94f3-0dd45ac05543"
      },
      "execution_count": null,
      "outputs": [
        {
          "output_type": "execute_result",
          "data": {
            "text/plain": [
              "['emma', 'olivia', 'ava', 'isabella', 'sophia', 'charlotte', 'mia', 'amelia']"
            ]
          },
          "metadata": {},
          "execution_count": 6
        }
      ]
    },
    {
      "cell_type": "code",
      "source": [
        "len(words)"
      ],
      "metadata": {
        "colab": {
          "base_uri": "https://localhost:8080/"
        },
        "id": "FbakoEqAcvnF",
        "outputId": "214a9fee-2a54-41fc-be29-57650ca87277"
      },
      "execution_count": null,
      "outputs": [
        {
          "output_type": "execute_result",
          "data": {
            "text/plain": [
              "32033"
            ]
          },
          "metadata": {},
          "execution_count": 7
        }
      ]
    },
    {
      "cell_type": "code",
      "source": [
        "# build the vocabulary of characters and mappings to/from integers\n",
        "chars = sorted(list(set(''.join(words))))\n",
        "stoi = {s:i+1 for i,s in enumerate(chars)}\n",
        "stoi['.'] = 0\n",
        "itos = {i:s for s,i in stoi.items()}\n",
        "vocab_size = len(itos)\n",
        "print(itos)\n",
        "print(vocab_size)"
      ],
      "metadata": {
        "colab": {
          "base_uri": "https://localhost:8080/"
        },
        "id": "EYnXhmWVcx-l",
        "outputId": "b50d1a51-dffb-41b3-bf2a-1802c523fc24"
      },
      "execution_count": null,
      "outputs": [
        {
          "output_type": "stream",
          "name": "stdout",
          "text": [
            "{1: 'a', 2: 'b', 3: 'c', 4: 'd', 5: 'e', 6: 'f', 7: 'g', 8: 'h', 9: 'i', 10: 'j', 11: 'k', 12: 'l', 13: 'm', 14: 'n', 15: 'o', 16: 'p', 17: 'q', 18: 'r', 19: 's', 20: 't', 21: 'u', 22: 'v', 23: 'w', 24: 'x', 25: 'y', 26: 'z', 0: '.'}\n",
            "27\n"
          ]
        }
      ]
    },
    {
      "cell_type": "markdown",
      "source": [
        "### Define hyperparameters"
      ],
      "metadata": {
        "id": "VQhDRCU5E0zD"
      }
    },
    {
      "cell_type": "code",
      "source": [
        "BLOCK_SIZE = 3\n",
        "EMBEDDING_DIMENSIONALITY = 10\n",
        "INPUT_NEURON_COUNT = BLOCK_SIZE * EMBEDDING_DIMENSIONALITY\n",
        "HIDDEN_LAYER_SIZE = 200"
      ],
      "metadata": {
        "id": "yYa-hh5mE3E8"
      },
      "execution_count": null,
      "outputs": []
    },
    {
      "cell_type": "code",
      "source": [
        "# build the dataset\n",
        "\n",
        "def build_dataset(words):\n",
        "  X, Y = [], []\n",
        "  for w in words:\n",
        "\n",
        "    #print(w)\n",
        "    context = [0] * BLOCK_SIZE\n",
        "    for ch in w + '.':\n",
        "      ix = stoi[ch]\n",
        "      X.append(context)\n",
        "      Y.append(ix)\n",
        "      #print(''.join(itos[i] for i in context), '--->', itos[ix])\n",
        "      context = context[1:] + [ix] # crop and append\n",
        "\n",
        "  X = torch.tensor(X)\n",
        "  Y = torch.tensor(Y)\n",
        "  print(X.shape, Y.shape)\n",
        "  return X, Y\n",
        "\n",
        "import random\n",
        "random.seed(42)\n",
        "random.shuffle(words)\n",
        "n1 = int(0.8*len(words))\n",
        "n2 = int(0.9*len(words))\n",
        "\n",
        "Xtr, Ytr = build_dataset(words[:n1])\n",
        "Xdev, Ydev = build_dataset(words[n1:n2])\n",
        "Xte, Yte = build_dataset(words[n2:])"
      ],
      "metadata": {
        "colab": {
          "base_uri": "https://localhost:8080/"
        },
        "id": "MB5XgJxdczFi",
        "outputId": "47a9177f-2b3a-45eb-dfe4-1a6d5dac5d15"
      },
      "execution_count": null,
      "outputs": [
        {
          "output_type": "stream",
          "name": "stdout",
          "text": [
            "torch.Size([182580, 3]) torch.Size([182580])\n",
            "torch.Size([22767, 3]) torch.Size([22767])\n",
            "torch.Size([22799, 3]) torch.Size([22799])\n"
          ]
        }
      ]
    },
    {
      "cell_type": "markdown",
      "source": [
        "Initialize the model"
      ],
      "metadata": {
        "id": "3mlaXIXMmaGX"
      }
    },
    {
      "cell_type": "code",
      "source": [
        "g = torch.Generator().manual_seed(2147483647) # for reproducibility\n",
        "C = torch.randn((vocab_size, EMBEDDING_DIMENSIONALITY), generator=g)\n",
        "W1 = torch.randn((INPUT_NEURON_COUNT, HIDDEN_LAYER_SIZE), generator=g) * 0.2\n",
        "b1 = torch.randn(HIDDEN_LAYER_SIZE, generator=g) * 0.01\n",
        "W2 = torch.randn((HIDDEN_LAYER_SIZE, vocab_size), generator=g) * .01\n",
        "b2 = torch.randn(vocab_size, generator=g) * 0\n",
        "parameters = [C, W1, b1, W2, b2]\n",
        "print(sum(p.nelement() for p in parameters))\n",
        "for p in parameters:\n",
        "  p.requires_grad = True"
      ],
      "metadata": {
        "id": "EAA0_oigc13X",
        "colab": {
          "base_uri": "https://localhost:8080/"
        },
        "outputId": "d003bc64-7e60-4f59-e155-b305954568e8"
      },
      "execution_count": null,
      "outputs": [
        {
          "output_type": "stream",
          "name": "stdout",
          "text": [
            "11897\n"
          ]
        }
      ]
    },
    {
      "cell_type": "code",
      "source": [
        "# learning characteristics\n",
        "BATCH_SIZE = 32\n",
        "TRAINING_PASSES = 200000\n",
        "START_STEP_SIZE = 0.1\n",
        "END_STEP_SIZE = 0.01\n",
        "\n",
        "def calculate_learning_rate(current_pass, total_passes):\n",
        "  #lr_decrease = (START_STEP_SIZE - END_STEP_SIZE) / (total_passes)\n",
        "  #current_lr = START_STEP_SIZE - lr_decrease * current_pass\n",
        "  current_lr = START_STEP_SIZE if current_pass < TRAINING_PASSES / 2 else END_STEP_SIZE\n",
        "  return current_lr"
      ],
      "metadata": {
        "id": "L19a3TI7jb33"
      },
      "execution_count": null,
      "outputs": []
    },
    {
      "cell_type": "code",
      "source": [
        "lri = []\n",
        "lossi = []\n",
        "\n",
        "for i in range(TRAINING_PASSES):\n",
        "\n",
        "  # minibatch construct\n",
        "  ix = torch.randint(0, Xtr.shape[0], (BATCH_SIZE,))\n",
        "\n",
        "  # forward pass\n",
        "  emb = C[Xtr[ix]] # (BATCH_SIZE, BLOCK_SIZE, EMBEDDING_DIMENSIONALITY)\n",
        "  embcat = emb.view(-1, INPUT_NEURON_COUNT)\n",
        "  hpreact = embcat @ W1 + b1\n",
        "  h = torch.tanh(hpreact) # (BATCH_SIZE, HIDDEN_LAYER_SIZE)\n",
        "  logits = h @ W2 + b2 # (BATCH_SIZE, DICT_SIZE)\n",
        "  loss = F.cross_entropy(logits, Ytr[ix])\n",
        "  #print(loss.item())\n",
        "\n",
        "  # backward pass\n",
        "  for p in parameters:\n",
        "    p.grad = None\n",
        "  loss.backward()\n",
        "\n",
        "  # update\n",
        "  lr = calculate_learning_rate(i, TRAINING_PASSES)\n",
        "  for p in parameters:\n",
        "    p.data += -lr * p.grad\n",
        "\n",
        "  # track stats\n",
        "  lri.append(lr)\n",
        "  lossi.append(loss.log10().item())\n",
        "  if i % 10000 == 0:\n",
        "    print(f'{i:7d}/{TRAINING_PASSES:7d}: {loss.item():.4f}')\n",
        "\n",
        "  #break"
      ],
      "metadata": {
        "id": "jiKD-PPOdClh",
        "colab": {
          "base_uri": "https://localhost:8080/"
        },
        "outputId": "9212f083-b014-4232-ad58-e466a0a0ec8e"
      },
      "execution_count": null,
      "outputs": [
        {
          "output_type": "stream",
          "name": "stdout",
          "text": [
            "      0/ 200000: 3.3214\n",
            "  10000/ 200000: 2.0580\n",
            "  20000/ 200000: 1.9863\n",
            "  30000/ 200000: 2.2551\n",
            "  40000/ 200000: 2.2045\n",
            "  50000/ 200000: 2.0071\n",
            "  60000/ 200000: 2.3741\n",
            "  70000/ 200000: 1.7431\n",
            "  80000/ 200000: 2.2859\n",
            "  90000/ 200000: 1.9106\n",
            " 100000/ 200000: 1.8423\n",
            " 110000/ 200000: 1.7914\n",
            " 120000/ 200000: 2.0724\n",
            " 130000/ 200000: 2.3360\n",
            " 140000/ 200000: 2.2599\n",
            " 150000/ 200000: 2.0511\n",
            " 160000/ 200000: 2.0337\n",
            " 170000/ 200000: 2.3496\n",
            " 180000/ 200000: 2.7107\n",
            " 190000/ 200000: 1.8363\n"
          ]
        }
      ]
    },
    {
      "cell_type": "code",
      "source": [
        "plt.plot(lri)\n",
        "plt.plot(lossi)"
      ],
      "metadata": {
        "colab": {
          "base_uri": "https://localhost:8080/",
          "height": 447
        },
        "id": "ZBAYXZ_rdGIG",
        "outputId": "dada360a-980e-40e4-94c7-51f318d6e4b1"
      },
      "execution_count": null,
      "outputs": [
        {
          "output_type": "execute_result",
          "data": {
            "text/plain": [
              "[<matplotlib.lines.Line2D at 0x7c056623ba90>]"
            ]
          },
          "metadata": {},
          "execution_count": 76
        },
        {
          "output_type": "display_data",
          "data": {
            "text/plain": [
              "<Figure size 640x480 with 1 Axes>"
            ],
            "image/png": "[encoded data removed]"
          },
          "metadata": {}
        }
      ]
    },
    {
      "cell_type": "code",
      "source": [
        "@torch.no_grad()\n",
        "def split_loss(split):\n",
        "  x,y = {\n",
        "      'train': (Xtr, Ytr),\n",
        "      'val': (Xdev, Ydev),\n",
        "      'test': (Xte, Yte)\n",
        "  }[split]\n",
        "  emb = C[x] # (split size, BLOCK_SIZE, EMBEDDING_DIMENSIONALITY)\n",
        "  embcat = emb.view(-1, INPUT_NEURON_COUNT) # (split size, INPUT_NEURON_COUNT)\n",
        "  h = torch.tanh(embcat @ W1 + b1) # (split size, HIDDEN_LAYER_SIZE)\n",
        "  logits = h @ W2 + b2 # (split size, vocab_size)\n",
        "  loss = F.cross_entropy(logits, y)\n",
        "  print(split, loss.item())\n",
        "\n",
        "split_loss('train')\n",
        "split_loss('val')\n"
      ],
      "metadata": {
        "colab": {
          "base_uri": "https://localhost:8080/"
        },
        "id": "UcvstHBFlExC",
        "outputId": "6ae8f0b0-2c2f-4d63-bf2f-1681360e7e2f"
      },
      "execution_count": null,
      "outputs": [
        {
          "output_type": "stream",
          "name": "stdout",
          "text": [
            "train 2.034574508666992\n",
            "val 2.1039905548095703\n"
          ]
        }
      ]
    },
    {
      "cell_type": "code",
      "source": [
        "# sample from the model\n",
        "g = torch.Generator().manual_seed(2147483647 + 10)\n",
        "\n",
        "for _ in range(20):\n",
        "\n",
        "    out = []\n",
        "    context = [0] * BLOCK_SIZE # initialize with all ...\n",
        "    while True:\n",
        "      emb = C[torch.tensor([context])] # (1,block_size,d)\n",
        "      h = torch.tanh(emb.view(1, -1) @ W1 + b1)\n",
        "      logits = h @ W2 + b2\n",
        "      probs = F.softmax(logits, dim=1)\n",
        "      ix = torch.multinomial(probs, num_samples=1, generator=g).item()\n",
        "      context = context[1:] + [ix]\n",
        "      out.append(ix)\n",
        "      if ix == 0:\n",
        "        break\n",
        "\n",
        "    print(''.join(itos[i] for i in out))"
      ],
      "metadata": {
        "colab": {
          "base_uri": "https://localhost:8080/"
        },
        "id": "TQUMmgRrdRIA",
        "outputId": "e38fd6ca-ed78-4429-8e9c-b4c7a8e3a3d6"
      },
      "execution_count": null,
      "outputs": [
        {
          "output_type": "stream",
          "name": "stdout",
          "text": [
            "mora.\n",
            "mayah.\n",
            "see.\n",
            "med.\n",
            "rylla.\n",
            "emmaniendra.\n",
            "grace.\n",
            "kaselin.\n",
            "shi.\n",
            "jen.\n",
            "eden.\n",
            "estanar.\n",
            "kayzioh.\n",
            "kalin.\n",
            "shub.\n",
            "rishiraest.\n",
            "jair.\n",
            "jennix.\n",
            "terian.\n",
            "benteder.\n"
          ]
        }
      ]
    },
    {
      "cell_type": "code",
      "source": [
        "# visualize dimensions 0 and 1 of the embedding matrix C for all characters\n",
        "plt.figure(figsize=(8,8))\n",
        "plt.scatter(C[:,0].data, C[:,1].data, s=200)\n",
        "for i in range(C.shape[0]):\n",
        "    plt.text(C[i,0].item(), C[i,1].item(), itos[i], ha=\"center\", va=\"center\", color='white')\n",
        "plt.grid('minor')"
      ],
      "metadata": {
        "colab": {
          "base_uri": "https://localhost:8080/",
          "height": 676
        },
        "id": "CCWLYP9GdPP4",
        "outputId": "b0e2a8e5-2ef1-4355-9c0b-ea8494a6a07b"
      },
      "execution_count": null,
      "outputs": [
        {
          "output_type": "display_data",
          "data": {
            "text/plain": [
              "<Figure size 800x800 with 1 Axes>"
            ],
            "image/png": "[encoded data removed]"
          },
          "metadata": {}
        }
      ]
    },
    {
      "cell_type": "code",
      "source": [],
      "metadata": {
        "id": "iwENKZS7dT_5"
      },
      "execution_count": null,
      "outputs": []
    }
  ]
}